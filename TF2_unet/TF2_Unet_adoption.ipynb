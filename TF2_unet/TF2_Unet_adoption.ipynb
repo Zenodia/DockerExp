{
 "cells": [
  {
   "cell_type": "code",
   "execution_count": 1,
   "metadata": {},
   "outputs": [
    {
     "name": "stdout",
     "output_type": "stream",
     "text": [
      "(100, 96, 96, 1) (100, 96, 96, 1)\n",
      "0.0 1.0 0.0 1.0\n"
     ]
    }
   ],
   "source": [
    "import numpy as np\n",
    "train=np.load('./out/tiny_test.npy')\n",
    "train_mask=np.load('./out/tiny_test_mask.npy')\n",
    "\n",
    "train = train.astype('float32')\n",
    "mini = np.min(train)  # mean for data centering\n",
    "maxi = np.max(train)  # std for data normalization\n",
    "train -= mini\n",
    "train /= (maxi -mini)\n",
    "\n",
    "train_mask = train_mask.astype('float32')\n",
    "mask_max=np.max(train_mask)\n",
    "train_mask/=mask_max\n",
    "# scale masks to [0, 1]\n",
    "print(train.shape, train_mask.shape)\n",
    "print(np.min(train), np.max(train), np.min(train_mask),np.max(train_mask))\n"
   ]
  },
  {
   "cell_type": "code",
   "execution_count": 2,
   "metadata": {},
   "outputs": [
    {
     "name": "stdout",
     "output_type": "stream",
     "text": [
      "WARNING:tensorflow:From /usr/local/lib/python3.6/dist-packages/tensorflow/python/ops/init_ops.py:1251: calling VarianceScaling.__init__ (from tensorflow.python.ops.init_ops) with dtype is deprecated and will be removed in a future version.\n",
      "Instructions for updating:\n",
      "Call initializer instance with the dtype argument instead of passing it to the constructor\n",
      "Model: \"model\"\n",
      "__________________________________________________________________________________________________\n",
      "Layer (type)                    Output Shape         Param #     Connected to                     \n",
      "==================================================================================================\n",
      "input_1 (InputLayer)            [(None, 96, 96, 1)]  0                                            \n",
      "__________________________________________________________________________________________________\n",
      "conv2d (Conv2D)                 (None, 96, 96, 32)   320         input_1[0][0]                    \n",
      "__________________________________________________________________________________________________\n",
      "conv2d_1 (Conv2D)               (None, 96, 96, 32)   9248        conv2d[0][0]                     \n",
      "__________________________________________________________________________________________________\n",
      "max_pooling2d (MaxPooling2D)    (None, 48, 48, 32)   0           conv2d_1[0][0]                   \n",
      "__________________________________________________________________________________________________\n",
      "conv2d_2 (Conv2D)               (None, 48, 48, 64)   18496       max_pooling2d[0][0]              \n",
      "__________________________________________________________________________________________________\n",
      "conv2d_3 (Conv2D)               (None, 48, 48, 64)   36928       conv2d_2[0][0]                   \n",
      "__________________________________________________________________________________________________\n",
      "max_pooling2d_1 (MaxPooling2D)  (None, 24, 24, 64)   0           conv2d_3[0][0]                   \n",
      "__________________________________________________________________________________________________\n",
      "conv2d_4 (Conv2D)               (None, 24, 24, 128)  73856       max_pooling2d_1[0][0]            \n",
      "__________________________________________________________________________________________________\n",
      "conv2d_5 (Conv2D)               (None, 24, 24, 128)  147584      conv2d_4[0][0]                   \n",
      "__________________________________________________________________________________________________\n",
      "max_pooling2d_2 (MaxPooling2D)  (None, 12, 12, 128)  0           conv2d_5[0][0]                   \n",
      "__________________________________________________________________________________________________\n",
      "conv2d_6 (Conv2D)               (None, 12, 12, 256)  295168      max_pooling2d_2[0][0]            \n",
      "__________________________________________________________________________________________________\n",
      "conv2d_7 (Conv2D)               (None, 12, 12, 256)  590080      conv2d_6[0][0]                   \n",
      "__________________________________________________________________________________________________\n",
      "max_pooling2d_3 (MaxPooling2D)  (None, 6, 6, 256)    0           conv2d_7[0][0]                   \n",
      "__________________________________________________________________________________________________\n",
      "conv2d_8 (Conv2D)               (None, 6, 6, 512)    1180160     max_pooling2d_3[0][0]            \n",
      "__________________________________________________________________________________________________\n",
      "conv2d_9 (Conv2D)               (None, 6, 6, 512)    2359808     conv2d_8[0][0]                   \n",
      "__________________________________________________________________________________________________\n",
      "conv2d_transpose (Conv2DTranspo (None, 12, 12, 256)  524544      conv2d_9[0][0]                   \n",
      "__________________________________________________________________________________________________\n",
      "concatenate (Concatenate)       (None, 12, 12, 512)  0           conv2d_transpose[0][0]           \n",
      "                                                                 conv2d_7[0][0]                   \n",
      "__________________________________________________________________________________________________\n",
      "conv2d_10 (Conv2D)              (None, 12, 12, 256)  1179904     concatenate[0][0]                \n",
      "__________________________________________________________________________________________________\n",
      "conv2d_11 (Conv2D)              (None, 12, 12, 256)  590080      conv2d_10[0][0]                  \n",
      "__________________________________________________________________________________________________\n",
      "conv2d_transpose_1 (Conv2DTrans (None, 24, 24, 128)  131200      conv2d_11[0][0]                  \n",
      "__________________________________________________________________________________________________\n",
      "concatenate_1 (Concatenate)     (None, 24, 24, 256)  0           conv2d_transpose_1[0][0]         \n",
      "                                                                 conv2d_5[0][0]                   \n",
      "__________________________________________________________________________________________________\n",
      "conv2d_12 (Conv2D)              (None, 24, 24, 128)  295040      concatenate_1[0][0]              \n",
      "__________________________________________________________________________________________________\n",
      "conv2d_13 (Conv2D)              (None, 24, 24, 128)  147584      conv2d_12[0][0]                  \n",
      "__________________________________________________________________________________________________\n",
      "conv2d_transpose_2 (Conv2DTrans (None, 48, 48, 64)   32832       conv2d_13[0][0]                  \n",
      "__________________________________________________________________________________________________\n",
      "concatenate_2 (Concatenate)     (None, 48, 48, 128)  0           conv2d_transpose_2[0][0]         \n",
      "                                                                 conv2d_3[0][0]                   \n",
      "__________________________________________________________________________________________________\n",
      "conv2d_14 (Conv2D)              (None, 48, 48, 64)   73792       concatenate_2[0][0]              \n",
      "__________________________________________________________________________________________________\n",
      "conv2d_15 (Conv2D)              (None, 48, 48, 64)   36928       conv2d_14[0][0]                  \n",
      "__________________________________________________________________________________________________\n",
      "conv2d_transpose_3 (Conv2DTrans (None, 96, 96, 32)   8224        conv2d_15[0][0]                  \n",
      "__________________________________________________________________________________________________\n",
      "concatenate_3 (Concatenate)     (None, 96, 96, 64)   0           conv2d_transpose_3[0][0]         \n",
      "                                                                 conv2d_1[0][0]                   \n",
      "__________________________________________________________________________________________________\n",
      "conv2d_16 (Conv2D)              (None, 96, 96, 32)   18464       concatenate_3[0][0]              \n",
      "__________________________________________________________________________________________________\n",
      "conv2d_17 (Conv2D)              (None, 96, 96, 32)   9248        conv2d_16[0][0]                  \n",
      "__________________________________________________________________________________________________\n",
      "conv2d_18 (Conv2D)              (None, 96, 96, 1)    33          conv2d_17[0][0]                  \n",
      "==================================================================================================\n",
      "Total params: 7,759,521\n",
      "Trainable params: 7,759,521\n",
      "Non-trainable params: 0\n",
      "__________________________________________________________________________________________________\n"
     ]
    }
   ],
   "source": [
    "from tensorflow.keras.models import Model\n",
    "from tensorflow.keras.layers import Input, concatenate, Conv2D, MaxPooling2D, Conv2DTranspose, Activation\n",
    "from tensorflow.keras.layers import BatchNormalization , Dropout\n",
    "from tensorflow.keras.optimizers import Adam\n",
    "from tensorflow.keras import backend as K\n",
    "from tensorflow.keras.losses import binary_crossentropy\n",
    "import tensorflow as tf\n",
    "\n",
    "\n",
    "smooth = 1.\n",
    "\n",
    "smooth = 1.\n",
    "\n",
    "\n",
    "def dice_coef(y_true, y_pred):\n",
    "    y_true_f = K.flatten(y_true)\n",
    "    y_pred_f = K.flatten(y_pred)\n",
    "    intersection = K.sum(y_true_f * y_pred_f)\n",
    "    return (2. * intersection + smooth) / (K.sum(y_true_f) + K.sum(y_pred_f) + smooth)\n",
    "\n",
    "\n",
    "def dice_coef_loss(y_true, y_pred):\n",
    "    return -dice_coef(y_true, y_pred)\n",
    "\n",
    "### customized unet loss function in order to ensure sucess and fast training \n",
    "def combined_dice_binary_loss(y_true,y_pred):\n",
    "    def dice_loss(y_true,y_pred):\n",
    "        numerator= 2 * tf.reduce_sum( y_true * y_pred, axis=(1,2,3))\n",
    "        denominator = tf.reduce_sum(y_true +y_pred, axis=(1,2,3))\n",
    "        return tf.reshape(1-numerator/denominator, (-1,1,1))\n",
    "    return binary_crossentropy(y_true,y_pred)+dice_loss(y_true,y_pred)\n",
    "def get_unet():\n",
    "    inputs = Input((96, 96, 1))\n",
    "    conv1 = Conv2D(32, (3, 3), activation='relu', padding='same')(inputs)\n",
    "    conv1 = Conv2D(32, (3, 3), activation='relu', padding='same')(conv1)\n",
    "    pool1 = MaxPooling2D(pool_size=(2, 2))(conv1)\n",
    "\n",
    "    conv2 = Conv2D(64, (3, 3), activation='relu', padding='same')(pool1)\n",
    "    conv2 = Conv2D(64, (3, 3), activation='relu', padding='same')(conv2)\n",
    "    pool2 = MaxPooling2D(pool_size=(2, 2))(conv2)\n",
    "\n",
    "    conv3 = Conv2D(128, (3, 3), activation='relu', padding='same')(pool2)\n",
    "    conv3 = Conv2D(128, (3, 3), activation='relu', padding='same')(conv3)\n",
    "    pool3 = MaxPooling2D(pool_size=(2, 2))(conv3)\n",
    "\n",
    "    conv4 = Conv2D(256, (3, 3), activation='relu', padding='same')(pool3)\n",
    "    conv4 = Conv2D(256, (3, 3), activation='relu', padding='same')(conv4)\n",
    "    pool4 = MaxPooling2D(pool_size=(2, 2))(conv4)\n",
    "\n",
    "    conv5 = Conv2D(512, (3, 3), activation='relu', padding='same')(pool4)\n",
    "    conv5 = Conv2D(512, (3, 3), activation='relu', padding='same')(conv5)\n",
    "\n",
    "    up6 = concatenate([Conv2DTranspose(256, (2, 2), strides=(2, 2), padding='same')(conv5), conv4], axis=3)\n",
    "    conv6 = Conv2D(256, (3, 3), activation='relu', padding='same')(up6)\n",
    "    conv6 = Conv2D(256, (3, 3), activation='relu', padding='same')(conv6)\n",
    "\n",
    "    up7 = concatenate([Conv2DTranspose(128, (2, 2), strides=(2, 2), padding='same')(conv6), conv3], axis=3)\n",
    "    conv7 = Conv2D(128, (3, 3), activation='relu', padding='same')(up7)\n",
    "    conv7 = Conv2D(128, (3, 3), activation='relu', padding='same')(conv7)\n",
    "\n",
    "    up8 = concatenate([Conv2DTranspose(64, (2, 2), strides=(2, 2), padding='same')(conv7), conv2], axis=3)\n",
    "    conv8 = Conv2D(64, (3, 3), activation='relu', padding='same')(up8)\n",
    "    conv8 = Conv2D(64, (3, 3), activation='relu', padding='same')(conv8)\n",
    "\n",
    "    up9 = concatenate([Conv2DTranspose(32, (2, 2), strides=(2, 2), padding='same')(conv8), conv1], axis=3)\n",
    "    conv9 = Conv2D(32, (3, 3), activation='relu', padding='same')(up9)\n",
    "    conv9 = Conv2D(32, (3, 3), activation='relu', padding='same')(conv9)\n",
    "\n",
    "    conv10 = Conv2D(1, (1, 1), activation='sigmoid')(conv9)\n",
    "\n",
    "    model = Model(inputs=[inputs], outputs=[conv10])\n",
    "\n",
    "    model.compile(optimizer=Adam(lr=1e-5), loss=dice_coef_loss, metrics=[dice_coef])\n",
    "\n",
    "    return model\n",
    "model=get_unet()\n",
    "model.summary()"
   ]
  },
  {
   "cell_type": "code",
   "execution_count": 3,
   "metadata": {},
   "outputs": [
    {
     "name": "stdout",
     "output_type": "stream",
     "text": [
      "Train on 100 samples, validate on 100 samples\n",
      "100/100 [==============================] - 3s 35ms/sample - loss: -0.0550 - dice_coef: 0.0556 - val_loss: -0.0550 - val_dice_coef: 0.0550\n"
     ]
    }
   ],
   "source": [
    "from tensorflow.keras.callbacks import ModelCheckpoint, EarlyStopping\n",
    "import os\n",
    "EPOCHS = 1\n",
    "early_stopping_callback = EarlyStopping(monitor='val_loss', patience=99)\n",
    "checkpoint_path = \"ngc_test\"\n",
    "\n",
    "# Create a callback that saves the model's weights every 5 epochs\n",
    "cp_callback = tf.keras.callbacks.ModelCheckpoint(\n",
    "    filepath=checkpoint_path, \n",
    "    monitor='val_loss',\n",
    "    save_best_only=True)\n",
    "\n",
    "model_history = model.fit(train, train_mask, batch_size=12, epochs=EPOCHS, verbose=1, shuffle=True,validation_data=(train,train_mask),\n",
    "          callbacks=[cp_callback,early_stopping_callback])"
   ]
  },
  {
   "cell_type": "code",
   "execution_count": 4,
   "metadata": {},
   "outputs": [
    {
     "data": {
      "text/plain": [
       "<tensorflow.python.training.tracking.util.CheckpointLoadStatus at 0x7f66f01ffcf8>"
      ]
     },
     "execution_count": 4,
     "metadata": {},
     "output_type": "execute_result"
    }
   ],
   "source": [
    "# Save the weights\n",
    "#model.save_weights('./ngc_checkpoint_weight')\n",
    "\n",
    "# Create a new model instance\n",
    "m = get_unet()\n",
    "\n",
    "# Restore the weights\n",
    "m.load_weights('./ngc_checkpoint_weight')\n"
   ]
  },
  {
   "cell_type": "code",
   "execution_count": null,
   "metadata": {},
   "outputs": [],
   "source": []
  },
  {
   "cell_type": "code",
   "execution_count": 9,
   "metadata": {},
   "outputs": [
    {
     "name": "stdout",
     "output_type": "stream",
     "text": [
      "[<tf.Tensor 'input_2:0' shape=(?, 96, 96, 1) dtype=float32>] [<tf.Tensor 'conv2d_37/Sigmoid:0' shape=(?, 96, 96, 1) dtype=float32>]\n",
      "input_2\n",
      "conv2d_19\n",
      "conv2d_20\n",
      "max_pooling2d_4\n",
      "conv2d_21\n",
      "conv2d_22\n",
      "max_pooling2d_5\n",
      "conv2d_23\n",
      "conv2d_24\n",
      "max_pooling2d_6\n",
      "conv2d_25\n",
      "conv2d_26\n",
      "max_pooling2d_7\n",
      "conv2d_27\n",
      "conv2d_28\n",
      "conv2d_transpose_4\n",
      "concatenate_4\n",
      "conv2d_29\n",
      "conv2d_30\n",
      "conv2d_transpose_5\n",
      "concatenate_5\n",
      "conv2d_31\n",
      "conv2d_32\n",
      "conv2d_transpose_6\n",
      "concatenate_6\n",
      "conv2d_33\n",
      "conv2d_34\n",
      "conv2d_transpose_7\n",
      "concatenate_7\n",
      "conv2d_35\n",
      "conv2d_36\n",
      "conv2d_37\n"
     ]
    }
   ],
   "source": [
    "print(m.inputs,m.outputs)\n",
    "\n",
    "for layer in m.layers:\n",
    "    print(layer.name)\n"
   ]
  },
  {
   "cell_type": "code",
   "execution_count": 6,
   "metadata": {},
   "outputs": [
    {
     "data": {
      "image/png": "[encoded data removed]",
      "text/plain": [
       "<Figure size 720x720 with 3 Axes>"
      ]
     },
     "metadata": {
      "needs_background": "light"
     },
     "output_type": "display_data"
    }
   ],
   "source": [
    "import matplotlib.pyplot as plt\n",
    "import random\n",
    "rn=random.randint(0,len(train)-1)\n",
    "%matplotlib inline\n",
    "out= m.predict(train[rn].reshape(1,96,96,1))\n",
    "fig = plt.figure(figsize=(10,10))\n",
    "fig.add_subplot(1,3,1)\n",
    "plt.imshow(np.squeeze(train[rn]*96))\n",
    "plt.title('real image')\n",
    "\n",
    "fig.add_subplot(1,3,2)\n",
    "plt.imshow(np.squeeze(train_mask[rn]))\n",
    "plt.title('real mask')\n",
    "\n",
    "\n",
    "fig.add_subplot(1,3,3)\n",
    "plt.imshow(np.squeeze(out))\n",
    "plt.title('predicted mask')\n",
    "\n",
    "plt.show()\n"
   ]
  },
  {
   "cell_type": "code",
   "execution_count": 11,
   "metadata": {},
   "outputs": [
    {
     "name": "stdout",
     "output_type": "stream",
     "text": [
      "Requirement already satisfied: tf-explain in c:\\users\\zecharpy\\appdata\\local\\continuum\\anaconda3\\envs\\tf2_py36\\lib\\site-packages (0.1.0)\n",
      "Requirement already satisfied: opencv-python>=4.1.0.25 in c:\\users\\zecharpy\\appdata\\local\\continuum\\anaconda3\\envs\\tf2_py36\\lib\\site-packages (from tf-explain) (4.1.1.26)\n",
      "Requirement already satisfied: numpy>=1.11.3 in c:\\users\\zecharpy\\appdata\\local\\continuum\\anaconda3\\envs\\tf2_py36\\lib\\site-packages (from opencv-python>=4.1.0.25->tf-explain) (1.16.4)\n"
     ]
    }
   ],
   "source": [
    "!pip install tf-explain"
   ]
  },
  {
   "cell_type": "markdown",
   "metadata": {},
   "source": [
    "# visualize with tensorboard using tf-explain"
   ]
  },
  {
   "cell_type": "code",
   "execution_count": 6,
   "metadata": {},
   "outputs": [
    {
     "name": "stdout",
     "output_type": "stream",
     "text": [
      "No known TensorBoard instances running.\n"
     ]
    }
   ],
   "source": [
    "from tensorboard import notebook\n",
    "notebook.list() # View open TensorBoard instances\n"
   ]
  },
  {
   "cell_type": "code",
   "execution_count": null,
   "metadata": {},
   "outputs": [],
   "source": [
    "!tensorboard --logdir=logs --host localhost --port 8088"
   ]
  },
  {
   "cell_type": "code",
   "execution_count": null,
   "metadata": {},
   "outputs": [],
   "source": [
    "%%html\n",
    "<table cellspacing='1'>\n",
    "<td>  \n",
    "    <td> <img src=\"model.JPG\" alt=\"image\" style=\"width: 1500px;\"/> </td>\n",
    "</table>"
   ]
  },
  {
   "cell_type": "code",
   "execution_count": 7,
   "metadata": {},
   "outputs": [
    {
     "data": {
      "text/html": [
       "<table cellspacing='1'>\n",
       "<td>  \n",
       "    <td> <img src=\"tensorboard_visualize.JPG\" alt=\"image\" style=\"width: 1500px;\"/> </td>\n",
       "</table>\n"
      ],
      "text/plain": [
       "<IPython.core.display.HTML object>"
      ]
     },
     "metadata": {},
     "output_type": "display_data"
    }
   ],
   "source": [
    "%%html\n",
    "<table cellspacing='1'>\n",
    "<td>  \n",
    "    <td> <img src=\"tensorboard_visualize.JPG\" alt=\"image\" style=\"width: 1500px;\"/> </td>\n",
    "</table>"
   ]
  },
  {
   "cell_type": "code",
   "execution_count": 8,
   "metadata": {},
   "outputs": [],
   "source": [
    "# Control TensorBoard display. If no port is provided, \n",
    "# the most recently launched TensorBoard is used\n",
    "#notebook.display(port=6006, height=800)"
   ]
  },
  {
   "cell_type": "code",
   "execution_count": 25,
   "metadata": {},
   "outputs": [
    {
     "name": "stdout",
     "output_type": "stream",
     "text": [
      "Train on 100 samples\n",
      "Epoch 1/2\n",
      "100/100 [==============================] - 15s 149ms/sample - loss: -0.6513 - dice_coef: 0.6513\n",
      "Epoch 2/2\n",
      "100/100 [==============================] - 15s 151ms/sample - loss: -0.6367 - dice_coef: 0.6367\n"
     ]
    },
    {
     "data": {
      "text/plain": [
       "<tensorflow.python.keras.callbacks.History at 0x1fa24ddc198>"
      ]
     },
     "execution_count": 25,
     "metadata": {},
     "output_type": "execute_result"
    }
   ],
   "source": [
    "from tf_explain.callbacks.grad_cam import GradCAMCallback\n",
    "\n",
    "\n",
    "callbacks = [\n",
    "    GradCAMCallback(\n",
    "        validation_data=(train, train_mask),\n",
    "        layer_name=\"conv2d_18\",\n",
    "        class_index=1,\n",
    "        output_dir='./logs',\n",
    "    )\n",
    "]\n",
    "\n",
    "m.fit(train, train_mask, batch_size=2, epochs=2, callbacks=callbacks)"
   ]
  },
  {
   "cell_type": "code",
   "execution_count": 10,
   "metadata": {},
   "outputs": [
    {
     "name": "stdout",
     "output_type": "stream",
     "text": [
      "Train on 100 samples\n",
      "Epoch 1/2\n",
      "100/100 [==============================] - 18s 182ms/sample - loss: -0.6205 - dice_coef: 0.6205\n",
      "Epoch 2/2\n",
      "100/100 [==============================] - 18s 181ms/sample - loss: -0.6472 - dice_coef: 0.6472\n"
     ]
    },
    {
     "data": {
      "text/plain": [
       "<tensorflow.python.keras.callbacks.History at 0x1fa21cdc048>"
      ]
     },
     "execution_count": 10,
     "metadata": {},
     "output_type": "execute_result"
    }
   ],
   "source": [
    "from tf_explain.callbacks.activations_visualization import ActivationsVisualizationCallback\n",
    "\n",
    "callbacks = [\n",
    "    ActivationsVisualizationCallback(\n",
    "        validation_data=(train, train_mask),\n",
    "        layers_name=[\"conv2d_16\"],\n",
    "        output_dir='./logs',\n",
    "    ),\n",
    "]\n",
    "\n",
    "m.fit(train, train_mask, batch_size=2, epochs=2, callbacks=callbacks)"
   ]
  },
  {
   "cell_type": "code",
   "execution_count": null,
   "metadata": {},
   "outputs": [],
   "source": []
  },
  {
   "cell_type": "code",
   "execution_count": 14,
   "metadata": {},
   "outputs": [],
   "source": [
    "from __future__ import absolute_import, division, print_function, unicode_literals\n",
    "\n",
    "from IPython.display import clear_output\n",
    "import matplotlib.pyplot as plt\n",
    "from tf_explain.callbacks.activations_visualization import ActivationsVisualizationCallback\n",
    "\n",
    "from tf_explain.callbacks.gradients import VanillaGradientsCallback\n",
    "from tf_explain.callbacks.occlusion_sensitivity import OcclusionSensitivityCallback\n",
    "from tf_explain.callbacks.grad_cam import GradCAMCallback\n",
    "from tf_explain.callbacks.smoothgrad import SmoothGradCallback\n",
    "from tf_explain.callbacks.integrated_gradients import IntegratedGradientsCallback"
   ]
  }
 ],
 "metadata": {
  "kernelspec": {
   "display_name": "Python 3",
   "language": "python",
   "name": "python3"
  },
  "language_info": {
   "codemirror_mode": {
    "name": "ipython",
    "version": 3
   },
   "file_extension": ".py",
   "mimetype": "text/x-python",
   "name": "python",
   "nbconvert_exporter": "python",
   "pygments_lexer": "ipython3",
   "version": "3.6.8"
  }
 },
 "nbformat": 4,
 "nbformat_minor": 4
}
